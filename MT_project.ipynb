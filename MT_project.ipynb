{
  "nbformat": 4,
  "nbformat_minor": 0,
  "metadata": {
    "colab": {
      "name": "MT_project.ipynb",
      "provenance": [],
      "collapsed_sections": []
    },
    "kernelspec": {
      "name": "python3",
      "display_name": "Python 3"
    },
    "language_info": {
      "name": "python"
    },
    "accelerator": "GPU",
    "gpuClass": "standard"
  },
  "cells": [
    {
      "cell_type": "code",
      "source": [
        "import pandas as pd \n",
        "from sklearn.model_selection import train_test_split\n",
        "import numpy as np\n",
        "from keras.callbacks import ModelCheckpoint\n",
        "import matplotlib.pyplot as plt\n",
        "import re\n",
        "import os\n",
        "import tensorflow as tf\n",
        "from sklearn.utils import shuffle\n",
        "from keras.layers import Input, LSTM, Embedding, Dense\n",
        "from keras.models import Model, load_model"
      ],
      "metadata": {
        "id": "IKJ0cB4NU7zd"
      },
      "execution_count": 214,
      "outputs": []
    },
    {
      "cell_type": "code",
      "execution_count": 2,
      "metadata": {
        "colab": {
          "base_uri": "https://localhost:8080/"
        },
        "id": "ynaVJMpCQ5GD",
        "outputId": "485ad9a7-c5e9-43a0-b14a-7f89c4705e6d"
      },
      "outputs": [
        {
          "output_type": "stream",
          "name": "stdout",
          "text": [
            "/usr/local/lib/python3.7/dist-packages/gdown/cli.py:131: FutureWarning: Option `--id` was deprecated in version 4.3.1 and will be removed in 5.0. You don't need to pass it anymore to use a file ID.\n",
            "  category=FutureWarning,\n",
            "Downloading...\n",
            "From: https://drive.google.com/uc?id=101S8yZESRK5YL0a886tTz1hnCFzhaRxe\n",
            "To: /content/en-fa_MT_dataset.csv\n",
            "100% 55.4M/55.4M [00:00<00:00, 137MB/s]\n"
          ]
        }
      ],
      "source": [
        "!gdown --id 101S8yZESRK5YL0a886tTz1hnCFzhaRxe"
      ]
    },
    {
      "cell_type": "code",
      "source": [
        "en_fa_data = pd.read_csv('en-fa_MT_dataset.csv')"
      ],
      "metadata": {
        "id": "zrD-mVlnUyQe"
      },
      "execution_count": 3,
      "outputs": []
    },
    {
      "cell_type": "code",
      "source": [
        "en_fa_data"
      ],
      "metadata": {
        "colab": {
          "base_uri": "https://localhost:8080/",
          "height": 424
        },
        "id": "u1jaU6ovVG7Q",
        "outputId": "f6cd5528-69f2-48c4-a10e-f958de21dbaa"
      },
      "execution_count": 4,
      "outputs": [
        {
          "output_type": "execute_result",
          "data": {
            "text/plain": [
              "                          en                                         fa\n",
              "0          raspy breathing .                               صداي خر خر .\n",
              "1                      dad .                                      پدر .\n",
              "2       maybe its the wind .                       شايد صداي باد باشه .\n",
              "3                       no .                                       نه .\n",
              "4         stop please stop .  دست نگه داريد خواهش ميکنم دست نگه داريد .\n",
              "...                      ...                                        ...\n",
              "612081              zodiac .                             دايره‌البروج .\n",
              "612082      zodiacal light .                              حمره مغربيه .\n",
              "612083               zombi .                            انسان زنده شد .\n",
              "612084            zombiism .                              مارخداگرائي .\n",
              "612085               zonal .                                    مداري .\n",
              "\n",
              "[612086 rows x 2 columns]"
            ],
            "text/html": [
              "\n",
              "  <div id=\"df-731639fe-c9a7-49fe-a4cd-43a13c96f02d\">\n",
              "    <div class=\"colab-df-container\">\n",
              "      <div>\n",
              "<style scoped>\n",
              "    .dataframe tbody tr th:only-of-type {\n",
              "        vertical-align: middle;\n",
              "    }\n",
              "\n",
              "    .dataframe tbody tr th {\n",
              "        vertical-align: top;\n",
              "    }\n",
              "\n",
              "    .dataframe thead th {\n",
              "        text-align: right;\n",
              "    }\n",
              "</style>\n",
              "<table border=\"1\" class=\"dataframe\">\n",
              "  <thead>\n",
              "    <tr style=\"text-align: right;\">\n",
              "      <th></th>\n",
              "      <th>en</th>\n",
              "      <th>fa</th>\n",
              "    </tr>\n",
              "  </thead>\n",
              "  <tbody>\n",
              "    <tr>\n",
              "      <th>0</th>\n",
              "      <td>raspy breathing .</td>\n",
              "      <td>صداي خر خر .</td>\n",
              "    </tr>\n",
              "    <tr>\n",
              "      <th>1</th>\n",
              "      <td>dad .</td>\n",
              "      <td>پدر .</td>\n",
              "    </tr>\n",
              "    <tr>\n",
              "      <th>2</th>\n",
              "      <td>maybe its the wind .</td>\n",
              "      <td>شايد صداي باد باشه .</td>\n",
              "    </tr>\n",
              "    <tr>\n",
              "      <th>3</th>\n",
              "      <td>no .</td>\n",
              "      <td>نه .</td>\n",
              "    </tr>\n",
              "    <tr>\n",
              "      <th>4</th>\n",
              "      <td>stop please stop .</td>\n",
              "      <td>دست نگه داريد خواهش ميکنم دست نگه داريد .</td>\n",
              "    </tr>\n",
              "    <tr>\n",
              "      <th>...</th>\n",
              "      <td>...</td>\n",
              "      <td>...</td>\n",
              "    </tr>\n",
              "    <tr>\n",
              "      <th>612081</th>\n",
              "      <td>zodiac .</td>\n",
              "      <td>دايره‌البروج .</td>\n",
              "    </tr>\n",
              "    <tr>\n",
              "      <th>612082</th>\n",
              "      <td>zodiacal light .</td>\n",
              "      <td>حمره مغربيه .</td>\n",
              "    </tr>\n",
              "    <tr>\n",
              "      <th>612083</th>\n",
              "      <td>zombi .</td>\n",
              "      <td>انسان زنده شد .</td>\n",
              "    </tr>\n",
              "    <tr>\n",
              "      <th>612084</th>\n",
              "      <td>zombiism .</td>\n",
              "      <td>مارخداگرائي .</td>\n",
              "    </tr>\n",
              "    <tr>\n",
              "      <th>612085</th>\n",
              "      <td>zonal .</td>\n",
              "      <td>مداري .</td>\n",
              "    </tr>\n",
              "  </tbody>\n",
              "</table>\n",
              "<p>612086 rows × 2 columns</p>\n",
              "</div>\n",
              "      <button class=\"colab-df-convert\" onclick=\"convertToInteractive('df-731639fe-c9a7-49fe-a4cd-43a13c96f02d')\"\n",
              "              title=\"Convert this dataframe to an interactive table.\"\n",
              "              style=\"display:none;\">\n",
              "        \n",
              "  <svg xmlns=\"http://www.w3.org/2000/svg\" height=\"24px\"viewBox=\"0 0 24 24\"\n",
              "       width=\"24px\">\n",
              "    <path d=\"M0 0h24v24H0V0z\" fill=\"none\"/>\n",
              "    <path d=\"M18.56 5.44l.94 2.06.94-2.06 2.06-.94-2.06-.94-.94-2.06-.94 2.06-2.06.94zm-11 1L8.5 8.5l.94-2.06 2.06-.94-2.06-.94L8.5 2.5l-.94 2.06-2.06.94zm10 10l.94 2.06.94-2.06 2.06-.94-2.06-.94-.94-2.06-.94 2.06-2.06.94z\"/><path d=\"M17.41 7.96l-1.37-1.37c-.4-.4-.92-.59-1.43-.59-.52 0-1.04.2-1.43.59L10.3 9.45l-7.72 7.72c-.78.78-.78 2.05 0 2.83L4 21.41c.39.39.9.59 1.41.59.51 0 1.02-.2 1.41-.59l7.78-7.78 2.81-2.81c.8-.78.8-2.07 0-2.86zM5.41 20L4 18.59l7.72-7.72 1.47 1.35L5.41 20z\"/>\n",
              "  </svg>\n",
              "      </button>\n",
              "      \n",
              "  <style>\n",
              "    .colab-df-container {\n",
              "      display:flex;\n",
              "      flex-wrap:wrap;\n",
              "      gap: 12px;\n",
              "    }\n",
              "\n",
              "    .colab-df-convert {\n",
              "      background-color: #E8F0FE;\n",
              "      border: none;\n",
              "      border-radius: 50%;\n",
              "      cursor: pointer;\n",
              "      display: none;\n",
              "      fill: #1967D2;\n",
              "      height: 32px;\n",
              "      padding: 0 0 0 0;\n",
              "      width: 32px;\n",
              "    }\n",
              "\n",
              "    .colab-df-convert:hover {\n",
              "      background-color: #E2EBFA;\n",
              "      box-shadow: 0px 1px 2px rgba(60, 64, 67, 0.3), 0px 1px 3px 1px rgba(60, 64, 67, 0.15);\n",
              "      fill: #174EA6;\n",
              "    }\n",
              "\n",
              "    [theme=dark] .colab-df-convert {\n",
              "      background-color: #3B4455;\n",
              "      fill: #D2E3FC;\n",
              "    }\n",
              "\n",
              "    [theme=dark] .colab-df-convert:hover {\n",
              "      background-color: #434B5C;\n",
              "      box-shadow: 0px 1px 3px 1px rgba(0, 0, 0, 0.15);\n",
              "      filter: drop-shadow(0px 1px 2px rgba(0, 0, 0, 0.3));\n",
              "      fill: #FFFFFF;\n",
              "    }\n",
              "  </style>\n",
              "\n",
              "      <script>\n",
              "        const buttonEl =\n",
              "          document.querySelector('#df-731639fe-c9a7-49fe-a4cd-43a13c96f02d button.colab-df-convert');\n",
              "        buttonEl.style.display =\n",
              "          google.colab.kernel.accessAllowed ? 'block' : 'none';\n",
              "\n",
              "        async function convertToInteractive(key) {\n",
              "          const element = document.querySelector('#df-731639fe-c9a7-49fe-a4cd-43a13c96f02d');\n",
              "          const dataTable =\n",
              "            await google.colab.kernel.invokeFunction('convertToInteractive',\n",
              "                                                     [key], {});\n",
              "          if (!dataTable) return;\n",
              "\n",
              "          const docLinkHtml = 'Like what you see? Visit the ' +\n",
              "            '<a target=\"_blank\" href=https://colab.research.google.com/notebooks/data_table.ipynb>data table notebook</a>'\n",
              "            + ' to learn more about interactive tables.';\n",
              "          element.innerHTML = '';\n",
              "          dataTable['output_type'] = 'display_data';\n",
              "          await google.colab.output.renderOutput(dataTable, element);\n",
              "          const docLink = document.createElement('div');\n",
              "          docLink.innerHTML = docLinkHtml;\n",
              "          element.appendChild(docLink);\n",
              "        }\n",
              "      </script>\n",
              "    </div>\n",
              "  </div>\n",
              "  "
            ]
          },
          "metadata": {},
          "execution_count": 4
        }
      ]
    },
    {
      "cell_type": "code",
      "source": [
        "en_fa_data = en_fa_data.sample(n=300000, random_state=50)"
      ],
      "metadata": {
        "id": "9-JyZ0nWVRfH"
      },
      "execution_count": 5,
      "outputs": []
    },
    {
      "cell_type": "code",
      "source": [
        "en_fa_data.shape"
      ],
      "metadata": {
        "colab": {
          "base_uri": "https://localhost:8080/"
        },
        "id": "Lv0uBt4bVdtH",
        "outputId": "9ddde4dc-94b0-476c-aea0-e7fc97746e7e"
      },
      "execution_count": 6,
      "outputs": [
        {
          "output_type": "execute_result",
          "data": {
            "text/plain": [
              "(300000, 2)"
            ]
          },
          "metadata": {},
          "execution_count": 6
        }
      ]
    },
    {
      "cell_type": "code",
      "source": [
        "en_fa_data['en'] = en_fa_data['en'].apply(lambda x: x.lower())\n",
        "en_fa_data['fa'] = en_fa_data['fa'].apply(lambda x: x.lower())"
      ],
      "metadata": {
        "id": "nBwkAULPVfkE"
      },
      "execution_count": 7,
      "outputs": []
    },
    {
      "cell_type": "code",
      "source": [
        "en_fa_data['en'] = en_fa_data['en'].apply(lambda x : '_start_ '+ x + ' _end_')\n",
        "en_fa_data['fa'] = en_fa_data['fa'].apply(lambda x : '_start_ '+ x + ' _end_')"
      ],
      "metadata": {
        "id": "nVjPSLdyVtvO"
      },
      "execution_count": 8,
      "outputs": []
    },
    {
      "cell_type": "code",
      "source": [
        "en_fa_data.head()"
      ],
      "metadata": {
        "colab": {
          "base_uri": "https://localhost:8080/",
          "height": 206
        },
        "id": "DYQ-gkQDWBMF",
        "outputId": "8109d027-e5a8-4e6c-da69-0ff1ce9f32e4"
      },
      "execution_count": 143,
      "outputs": [
        {
          "output_type": "execute_result",
          "data": {
            "text/plain": [
              "                                                       en  \\\n",
              "550281  _start_ there is a messenger from the imperial...   \n",
              "326616    _start_ could offer her what she wanted . _end_   \n",
              "380457  _start_ throw away the tendons and membranes _...   \n",
              "353927                   _start_ oh what the hell . _end_   \n",
              "407398  _start_ i've been hassled over a year, damn it...   \n",
              "\n",
              "                                                       fa  \n",
              "550281  _start_ يك پيغام رسان از محل امپراطوري داريم _...  \n",
              "326616  _start_ ميتونست چيزي را كه اون ميخواست بده . _...  \n",
              "380457    _start_ بافتها و تاندونهایش را دور بریزید _end_  \n",
              "353927              _start_ اوه ، اون ديگه چي بود . _end_  \n",
              "407398  _start_ بيشتر از يك ساله كه دارم وقتم رو تلف م...  "
            ],
            "text/html": [
              "\n",
              "  <div id=\"df-caf459fa-a5a7-49d8-92d0-d08125456389\">\n",
              "    <div class=\"colab-df-container\">\n",
              "      <div>\n",
              "<style scoped>\n",
              "    .dataframe tbody tr th:only-of-type {\n",
              "        vertical-align: middle;\n",
              "    }\n",
              "\n",
              "    .dataframe tbody tr th {\n",
              "        vertical-align: top;\n",
              "    }\n",
              "\n",
              "    .dataframe thead th {\n",
              "        text-align: right;\n",
              "    }\n",
              "</style>\n",
              "<table border=\"1\" class=\"dataframe\">\n",
              "  <thead>\n",
              "    <tr style=\"text-align: right;\">\n",
              "      <th></th>\n",
              "      <th>en</th>\n",
              "      <th>fa</th>\n",
              "    </tr>\n",
              "  </thead>\n",
              "  <tbody>\n",
              "    <tr>\n",
              "      <th>550281</th>\n",
              "      <td>_start_ there is a messenger from the imperial...</td>\n",
              "      <td>_start_ يك پيغام رسان از محل امپراطوري داريم _...</td>\n",
              "    </tr>\n",
              "    <tr>\n",
              "      <th>326616</th>\n",
              "      <td>_start_ could offer her what she wanted . _end_</td>\n",
              "      <td>_start_ ميتونست چيزي را كه اون ميخواست بده . _...</td>\n",
              "    </tr>\n",
              "    <tr>\n",
              "      <th>380457</th>\n",
              "      <td>_start_ throw away the tendons and membranes _...</td>\n",
              "      <td>_start_ بافتها و تاندونهایش را دور بریزید _end_</td>\n",
              "    </tr>\n",
              "    <tr>\n",
              "      <th>353927</th>\n",
              "      <td>_start_ oh what the hell . _end_</td>\n",
              "      <td>_start_ اوه ، اون ديگه چي بود . _end_</td>\n",
              "    </tr>\n",
              "    <tr>\n",
              "      <th>407398</th>\n",
              "      <td>_start_ i've been hassled over a year, damn it...</td>\n",
              "      <td>_start_ بيشتر از يك ساله كه دارم وقتم رو تلف م...</td>\n",
              "    </tr>\n",
              "  </tbody>\n",
              "</table>\n",
              "</div>\n",
              "      <button class=\"colab-df-convert\" onclick=\"convertToInteractive('df-caf459fa-a5a7-49d8-92d0-d08125456389')\"\n",
              "              title=\"Convert this dataframe to an interactive table.\"\n",
              "              style=\"display:none;\">\n",
              "        \n",
              "  <svg xmlns=\"http://www.w3.org/2000/svg\" height=\"24px\"viewBox=\"0 0 24 24\"\n",
              "       width=\"24px\">\n",
              "    <path d=\"M0 0h24v24H0V0z\" fill=\"none\"/>\n",
              "    <path d=\"M18.56 5.44l.94 2.06.94-2.06 2.06-.94-2.06-.94-.94-2.06-.94 2.06-2.06.94zm-11 1L8.5 8.5l.94-2.06 2.06-.94-2.06-.94L8.5 2.5l-.94 2.06-2.06.94zm10 10l.94 2.06.94-2.06 2.06-.94-2.06-.94-.94-2.06-.94 2.06-2.06.94z\"/><path d=\"M17.41 7.96l-1.37-1.37c-.4-.4-.92-.59-1.43-.59-.52 0-1.04.2-1.43.59L10.3 9.45l-7.72 7.72c-.78.78-.78 2.05 0 2.83L4 21.41c.39.39.9.59 1.41.59.51 0 1.02-.2 1.41-.59l7.78-7.78 2.81-2.81c.8-.78.8-2.07 0-2.86zM5.41 20L4 18.59l7.72-7.72 1.47 1.35L5.41 20z\"/>\n",
              "  </svg>\n",
              "      </button>\n",
              "      \n",
              "  <style>\n",
              "    .colab-df-container {\n",
              "      display:flex;\n",
              "      flex-wrap:wrap;\n",
              "      gap: 12px;\n",
              "    }\n",
              "\n",
              "    .colab-df-convert {\n",
              "      background-color: #E8F0FE;\n",
              "      border: none;\n",
              "      border-radius: 50%;\n",
              "      cursor: pointer;\n",
              "      display: none;\n",
              "      fill: #1967D2;\n",
              "      height: 32px;\n",
              "      padding: 0 0 0 0;\n",
              "      width: 32px;\n",
              "    }\n",
              "\n",
              "    .colab-df-convert:hover {\n",
              "      background-color: #E2EBFA;\n",
              "      box-shadow: 0px 1px 2px rgba(60, 64, 67, 0.3), 0px 1px 3px 1px rgba(60, 64, 67, 0.15);\n",
              "      fill: #174EA6;\n",
              "    }\n",
              "\n",
              "    [theme=dark] .colab-df-convert {\n",
              "      background-color: #3B4455;\n",
              "      fill: #D2E3FC;\n",
              "    }\n",
              "\n",
              "    [theme=dark] .colab-df-convert:hover {\n",
              "      background-color: #434B5C;\n",
              "      box-shadow: 0px 1px 3px 1px rgba(0, 0, 0, 0.15);\n",
              "      filter: drop-shadow(0px 1px 2px rgba(0, 0, 0, 0.3));\n",
              "      fill: #FFFFFF;\n",
              "    }\n",
              "  </style>\n",
              "\n",
              "      <script>\n",
              "        const buttonEl =\n",
              "          document.querySelector('#df-caf459fa-a5a7-49d8-92d0-d08125456389 button.colab-df-convert');\n",
              "        buttonEl.style.display =\n",
              "          google.colab.kernel.accessAllowed ? 'block' : 'none';\n",
              "\n",
              "        async function convertToInteractive(key) {\n",
              "          const element = document.querySelector('#df-caf459fa-a5a7-49d8-92d0-d08125456389');\n",
              "          const dataTable =\n",
              "            await google.colab.kernel.invokeFunction('convertToInteractive',\n",
              "                                                     [key], {});\n",
              "          if (!dataTable) return;\n",
              "\n",
              "          const docLinkHtml = 'Like what you see? Visit the ' +\n",
              "            '<a target=\"_blank\" href=https://colab.research.google.com/notebooks/data_table.ipynb>data table notebook</a>'\n",
              "            + ' to learn more about interactive tables.';\n",
              "          element.innerHTML = '';\n",
              "          dataTable['output_type'] = 'display_data';\n",
              "          await google.colab.output.renderOutput(dataTable, element);\n",
              "          const docLink = document.createElement('div');\n",
              "          docLink.innerHTML = docLinkHtml;\n",
              "          element.appendChild(docLink);\n",
              "        }\n",
              "      </script>\n",
              "    </div>\n",
              "  </div>\n",
              "  "
            ]
          },
          "metadata": {},
          "execution_count": 143
        }
      ]
    },
    {
      "cell_type": "code",
      "source": [
        "len(en_fa_data)"
      ],
      "metadata": {
        "colab": {
          "base_uri": "https://localhost:8080/"
        },
        "id": "_frWvp7gWXXV",
        "outputId": "bad26169-fc10-4032-b042-884f0e371c81"
      },
      "execution_count": 10,
      "outputs": [
        {
          "output_type": "execute_result",
          "data": {
            "text/plain": [
              "300000"
            ]
          },
          "metadata": {},
          "execution_count": 10
        }
      ]
    },
    {
      "cell_type": "code",
      "source": [
        "max_features1 = 5000\n",
        "maxlen1 = 30"
      ],
      "metadata": {
        "id": "ZgHgprJpY8Dy"
      },
      "execution_count": 11,
      "outputs": []
    },
    {
      "cell_type": "code",
      "source": [
        "max_features2 = 5000\n",
        "maxlen2 = 30"
      ],
      "metadata": {
        "id": "JDTbzZRLY-Ki"
      },
      "execution_count": 12,
      "outputs": []
    },
    {
      "cell_type": "code",
      "source": [
        "tok1 = tf.keras.preprocessing.text.Tokenizer(num_words=max_features1) \n",
        "tok1.fit_on_texts(list(en_fa_data['en']))\n",
        "tf_train_english = tok1.texts_to_sequences(list(en_fa_data['en']))\n",
        "tf_train_english = tf.keras.preprocessing.sequence.pad_sequences(tf_train_english,\n",
        "                                                                 maxlen = maxlen1)"
      ],
      "metadata": {
        "id": "AaiATUqMZDri"
      },
      "execution_count": 13,
      "outputs": []
    },
    {
      "cell_type": "code",
      "source": [
        "tok2 = tf.keras.preprocessing.text.Tokenizer(num_words=max_features2, filters='*') \n",
        "tok2.fit_on_texts(list(en_fa_data['fa']))\n",
        "tf_train_fa = tok2.texts_to_sequences(list(en_fa_data['fa']))\n",
        "tf_train_fa = tf.keras.preprocessing.sequence.pad_sequences(tf_train_fa,\n",
        "                                                            maxlen = maxlen2,\n",
        "                                                            padding = 'post') "
      ],
      "metadata": {
        "id": "N4D07NEsZu2T"
      },
      "execution_count": 14,
      "outputs": []
    },
    {
      "cell_type": "code",
      "source": [
        "tf_train_english"
      ],
      "metadata": {
        "colab": {
          "base_uri": "https://localhost:8080/"
        },
        "id": "bKI5aVEoZ4Va",
        "outputId": "18ebad47-cb19-4b2f-a3d4-734785b2c735"
      },
      "execution_count": 15,
      "outputs": [
        {
          "output_type": "execute_result",
          "data": {
            "text/plain": [
              "array([[   0,    0,    0, ...,  606,  355,    2],\n",
              "       [   0,    0,    0, ...,   61,  247,    2],\n",
              "       [   0,    0,    0, ...,    4,    8,    2],\n",
              "       ...,\n",
              "       [   0,    0,    0, ...,  574,  651,    2],\n",
              "       [   0,    0,    0, ...,   11,   16,    2],\n",
              "       [   0,    0,    0, ...,    8, 3908,    2]], dtype=int32)"
            ]
          },
          "metadata": {},
          "execution_count": 15
        }
      ]
    },
    {
      "cell_type": "code",
      "source": [
        "encoder_input_data = tf_train_english"
      ],
      "metadata": {
        "id": "agO58r1CZ-k9"
      },
      "execution_count": 16,
      "outputs": []
    },
    {
      "cell_type": "code",
      "source": [
        "encoder_input_data.shape"
      ],
      "metadata": {
        "colab": {
          "base_uri": "https://localhost:8080/"
        },
        "id": "PdevpSgKZ_wo",
        "outputId": "9ce47b6d-0653-403f-dcdc-fc239676e5ea"
      },
      "execution_count": 17,
      "outputs": [
        {
          "output_type": "execute_result",
          "data": {
            "text/plain": [
              "(300000, 30)"
            ]
          },
          "metadata": {},
          "execution_count": 17
        }
      ]
    },
    {
      "cell_type": "code",
      "source": [
        "decoder_input_data = tf_train_fa[:, :-1]\n",
        "decoder_target_data = tf_train_fa[:, 1:]\n",
        "\n",
        "print(f'Shape of decoder input: {decoder_input_data.shape}')\n",
        "print(f'Shape of decoder target: {decoder_target_data.shape}')"
      ],
      "metadata": {
        "colab": {
          "base_uri": "https://localhost:8080/"
        },
        "id": "bhMmvDXDaEif",
        "outputId": "fb205eed-aeda-4251-81e0-99e1024ebbfa"
      },
      "execution_count": 18,
      "outputs": [
        {
          "output_type": "stream",
          "name": "stdout",
          "text": [
            "Shape of decoder input: (300000, 29)\n",
            "Shape of decoder target: (300000, 29)\n"
          ]
        }
      ]
    },
    {
      "cell_type": "code",
      "source": [
        "doc_length = encoder_input_data.shape[1]\n",
        "doc_length"
      ],
      "metadata": {
        "colab": {
          "base_uri": "https://localhost:8080/"
        },
        "id": "4Gme3XJHaP_C",
        "outputId": "a47d2750-da5e-4ad8-b16a-a833b03fc3bc"
      },
      "execution_count": 19,
      "outputs": [
        {
          "output_type": "execute_result",
          "data": {
            "text/plain": [
              "30"
            ]
          },
          "metadata": {},
          "execution_count": 19
        }
      ]
    },
    {
      "cell_type": "code",
      "source": [
        "vocab_size_encoder = len(tok1.word_index) + 1 \n",
        "vocab_size_decoder = len(tok2.word_index) + 1"
      ],
      "metadata": {
        "id": "4gS9ZVvOaTcF"
      },
      "execution_count": 20,
      "outputs": []
    },
    {
      "cell_type": "code",
      "source": [
        "latent_dim = 40"
      ],
      "metadata": {
        "id": "GODlV_MNaai6"
      },
      "execution_count": 21,
      "outputs": []
    },
    {
      "cell_type": "code",
      "source": [
        "#### Encoder Model ####\n",
        "encoder_inputs = tf.keras.Input(shape=(doc_length,), name='Encoder-Input')\n",
        "x = tf.keras.layers.Embedding(vocab_size_encoder, latent_dim, name='Body-Word-Embedding',\n",
        "                              mask_zero=False)(encoder_inputs)\n",
        "x = tf.keras.layers.BatchNormalization(name='Encoder-Batchnorm-1')(x)\n",
        "_, state_h = tf.keras.layers.GRU(latent_dim, return_state=True, name='Encoder-Last-GRU')(x)\n",
        "encoder_model = tf.keras.Model(inputs=encoder_inputs, outputs=state_h, name='Encoder-Model')\n",
        "\n",
        "seq2seq_encoder_out = encoder_model(encoder_inputs)"
      ],
      "metadata": {
        "id": "p0hBwvzGacc7"
      },
      "execution_count": 22,
      "outputs": []
    },
    {
      "cell_type": "code",
      "source": [
        "#### Decoder Model ####\n",
        "decoder_inputs = tf.keras.Input(shape=(None,), name='Decoder-Input')\n",
        "\n",
        "dec_emb = tf.keras.layers.Embedding(vocab_size_decoder, latent_dim, \n",
        "                                    name='Decoder-Word-Embedding', \n",
        "                                    mask_zero=False)(decoder_inputs)\n",
        "dec_bn = tf.keras.layers.BatchNormalization(name='Decoder-Batchnorm-1')(dec_emb)\n",
        "decoder_gru = tf.keras.layers.GRU(latent_dim, return_state=True,\n",
        "                                  return_sequences=True, name='Decoder-GRU')\n",
        "decoder_gru_output, _ = decoder_gru(dec_bn, initial_state=seq2seq_encoder_out) \n",
        "x = tf.keras.layers.BatchNormalization(name='Decoder-Batchnorm-2')(decoder_gru_output)\n",
        "decoder_dense = tf.keras.layers.Dense(vocab_size_decoder, activation='softmax',\n",
        "                                      name='Final-Output-Dense')\n",
        "\n",
        "decoder_outputs = decoder_dense(x)"
      ],
      "metadata": {
        "id": "-hG97nm1ajK4"
      },
      "execution_count": 23,
      "outputs": []
    },
    {
      "cell_type": "code",
      "source": [
        "seq2seq_Model = tf.keras.Model([encoder_inputs, decoder_inputs], decoder_outputs)\n",
        "seq2seq_Model.compile(optimizer=tf.keras.optimizers.Nadam(lr=0.001), \n",
        "                      loss='sparse_categorical_crossentropy')"
      ],
      "metadata": {
        "colab": {
          "base_uri": "https://localhost:8080/"
        },
        "id": "nPK82uuzaub4",
        "outputId": "6c0c3530-414e-42df-f244-b4b6e9e81add"
      },
      "execution_count": 24,
      "outputs": [
        {
          "output_type": "stream",
          "name": "stderr",
          "text": [
            "/usr/local/lib/python3.7/dist-packages/keras/optimizer_v2/nadam.py:73: UserWarning: The `lr` argument is deprecated, use `learning_rate` instead.\n",
            "  super(Nadam, self).__init__(name, **kwargs)\n"
          ]
        }
      ]
    },
    {
      "cell_type": "code",
      "source": [
        "seq2seq_Model.summary()"
      ],
      "metadata": {
        "colab": {
          "base_uri": "https://localhost:8080/"
        },
        "id": "dZ6X5HXMawaS",
        "outputId": "3be447eb-823a-486c-b2a5-60df754e7384"
      },
      "execution_count": 25,
      "outputs": [
        {
          "output_type": "stream",
          "name": "stdout",
          "text": [
            "Model: \"model\"\n",
            "__________________________________________________________________________________________________\n",
            " Layer (type)                   Output Shape         Param #     Connected to                     \n",
            "==================================================================================================\n",
            " Decoder-Input (InputLayer)     [(None, None)]       0           []                               \n",
            "                                                                                                  \n",
            " Decoder-Word-Embedding (Embedd  (None, None, 40)    3965520     ['Decoder-Input[0][0]']          \n",
            " ing)                                                                                             \n",
            "                                                                                                  \n",
            " Encoder-Input (InputLayer)     [(None, 30)]         0           []                               \n",
            "                                                                                                  \n",
            " Decoder-Batchnorm-1 (BatchNorm  (None, None, 40)    160         ['Decoder-Word-Embedding[0][0]'] \n",
            " alization)                                                                                       \n",
            "                                                                                                  \n",
            " Encoder-Model (Functional)     (None, 40)           2241240     ['Encoder-Input[0][0]']          \n",
            "                                                                                                  \n",
            " Decoder-GRU (GRU)              [(None, None, 40),   9840        ['Decoder-Batchnorm-1[0][0]',    \n",
            "                                 (None, 40)]                      'Encoder-Model[0][0]']          \n",
            "                                                                                                  \n",
            " Decoder-Batchnorm-2 (BatchNorm  (None, None, 40)    160         ['Decoder-GRU[0][0]']            \n",
            " alization)                                                                                       \n",
            "                                                                                                  \n",
            " Final-Output-Dense (Dense)     (None, None, 99138)  4064658     ['Decoder-Batchnorm-2[0][0]']    \n",
            "                                                                                                  \n",
            "==================================================================================================\n",
            "Total params: 10,281,578\n",
            "Trainable params: 10,281,338\n",
            "Non-trainable params: 240\n",
            "__________________________________________________________________________________________________\n"
          ]
        }
      ]
    },
    {
      "cell_type": "code",
      "source": [
        "filename = 'model.h5'\n",
        "checkpoint = ModelCheckpoint(filename, \n",
        "                             monitor='val_loss', \n",
        "                             save_best_only=True,\n",
        "                             mode='min')"
      ],
      "metadata": {
        "id": "SBCeIXdJaycm"
      },
      "execution_count": 26,
      "outputs": []
    },
    {
      "cell_type": "code",
      "source": [
        "batch_size = 128\n",
        "epochs = 20"
      ],
      "metadata": {
        "id": "rauFVl4oa1ZG"
      },
      "execution_count": 27,
      "outputs": []
    },
    {
      "cell_type": "code",
      "source": [
        "history = seq2seq_Model.fit([encoder_input_data, decoder_input_data],\n",
        "                            np.expand_dims(decoder_target_data,-1),\n",
        "                            batch_size=batch_size,  epochs=epochs, \n",
        "                            validation_split=0.12,\n",
        "                            callbacks=[checkpoint]) "
      ],
      "metadata": {
        "colab": {
          "base_uri": "https://localhost:8080/"
        },
        "id": "BHt9NWcfa3Ql",
        "outputId": "fe1396e0-4b96-4e3f-ed91-5e1afb3418b8"
      },
      "execution_count": 28,
      "outputs": [
        {
          "output_type": "stream",
          "name": "stdout",
          "text": [
            "Epoch 1/20\n",
            "2063/2063 [==============================] - 374s 176ms/step - loss: 1.7564 - val_loss: 1.0646\n",
            "Epoch 2/20\n",
            "2063/2063 [==============================] - 366s 178ms/step - loss: 1.0082 - val_loss: 0.9854\n",
            "Epoch 3/20\n",
            "2063/2063 [==============================] - 367s 178ms/step - loss: 0.9509 - val_loss: 0.9560\n",
            "Epoch 4/20\n",
            "2063/2063 [==============================] - 368s 178ms/step - loss: 0.9224 - val_loss: 0.9412\n",
            "Epoch 5/20\n",
            "2063/2063 [==============================] - 381s 185ms/step - loss: 0.9051 - val_loss: 0.9317\n",
            "Epoch 6/20\n",
            "2063/2063 [==============================] - 367s 178ms/step - loss: 0.8933 - val_loss: 0.9267\n",
            "Epoch 7/20\n",
            "2063/2063 [==============================] - 367s 178ms/step - loss: 0.8846 - val_loss: 0.9222\n",
            "Epoch 8/20\n",
            "2063/2063 [==============================] - 367s 178ms/step - loss: 0.8778 - val_loss: 0.9184\n",
            "Epoch 9/20\n",
            "2063/2063 [==============================] - 381s 185ms/step - loss: 0.8724 - val_loss: 0.9159\n",
            "Epoch 10/20\n",
            "2063/2063 [==============================] - 381s 185ms/step - loss: 0.8678 - val_loss: 0.9136\n",
            "Epoch 11/20\n",
            "2063/2063 [==============================] - 367s 178ms/step - loss: 0.8640 - val_loss: 0.9122\n",
            "Epoch 12/20\n",
            "2063/2063 [==============================] - 367s 178ms/step - loss: 0.8607 - val_loss: 0.9106\n",
            "Epoch 13/20\n",
            "2063/2063 [==============================] - 368s 178ms/step - loss: 0.8576 - val_loss: 0.9095\n",
            "2063/2063 [==============================] - 368s 178ms/step - loss: 0.8576 - val_loss: 0.9095\n",
            "Epoch 14/20\n",
            "Epoch 14/20\n",
            "2063/2063 [==============================] - 369s 179ms/step - loss: 0.8550 - val_loss: 0.9088\n",
            "2063/2063 [==============================] - 369s 179ms/step - loss: 0.8550 - val_loss: 0.9088\n",
            "Epoch 15/20\n",
            "Epoch 15/20\n",
            "2063/2063 [==============================] - 369s 179ms/step - loss: 0.8527 - val_loss: 0.9071\n",
            "2063/2063 [==============================] - 369s 179ms/step - loss: 0.8527 - val_loss: 0.9071\n",
            "Epoch 16/20\n",
            "Epoch 16/20\n",
            "2063/2063 [==============================] - 369s 179ms/step - loss: 0.8505 - val_loss: 0.9063\n",
            "2063/2063 [==============================] - 369s 179ms/step - loss: 0.8505 - val_loss: 0.9063\n",
            "Epoch 17/20\n",
            "Epoch 17/20\n",
            "2063/2063 [==============================] - 369s 179ms/step - loss: 0.8486 - val_loss: 0.9053\n",
            "2063/2063 [==============================] - 369s 179ms/step - loss: 0.8486 - val_loss: 0.9053\n",
            "Epoch 18/20\n",
            "Epoch 18/20\n",
            "2063/2063 [==============================] - 369s 179ms/step - loss: 0.8468 - val_loss: 0.9062\n",
            "2063/2063 [==============================] - 369s 179ms/step - loss: 0.8468 - val_loss: 0.9062\n",
            "Epoch 19/20\n",
            "Epoch 19/20\n",
            "2063/2063 [==============================] - 369s 179ms/step - loss: 0.8452 - val_loss: 0.9044\n",
            "2063/2063 [==============================] - 369s 179ms/step - loss: 0.8452 - val_loss: 0.9044\n",
            "Epoch 20/20\n",
            "Epoch 20/20\n",
            "2063/2063 [==============================] - 369s 179ms/step - loss: 0.8437 - val_loss: 0.9052\n",
            "2063/2063 [==============================] - 369s 179ms/step - loss: 0.8437 - val_loss: 0.9052\n"
          ]
        }
      ]
    },
    {
      "cell_type": "code",
      "source": [
        "seq2seq_Model.save('MT_model.h5')"
      ],
      "metadata": {
        "id": "TKDY7Hzta5G1"
      },
      "execution_count": 32,
      "outputs": []
    },
    {
      "cell_type": "markdown",
      "source": [
        "### **Load Model**"
      ],
      "metadata": {
        "id": "BAaW8mv08PAA"
      }
    },
    {
      "cell_type": "code",
      "source": [
        "!gdown --id 1-2zYxj6wezfZSeOKyG1EgmP_Uj3iY3kt"
      ],
      "metadata": {
        "colab": {
          "base_uri": "https://localhost:8080/"
        },
        "id": "gS9qbyOWvPlJ",
        "outputId": "c74ffacf-897e-4bc9-c299-d2630e6e09a2"
      },
      "execution_count": 80,
      "outputs": [
        {
          "output_type": "stream",
          "name": "stdout",
          "text": [
            "/usr/local/lib/python3.7/dist-packages/gdown/cli.py:131: FutureWarning: Option `--id` was deprecated in version 4.3.1 and will be removed in 5.0. You don't need to pass it anymore to use a file ID.\n",
            "  category=FutureWarning,\n",
            "Downloading...\n",
            "From: https://drive.google.com/uc?id=1-2zYxj6wezfZSeOKyG1EgmP_Uj3iY3kt\n",
            "To: /content/MT_model.h5\n",
            "100% 123M/123M [00:00<00:00, 259MB/s]\n"
          ]
        }
      ]
    },
    {
      "cell_type": "code",
      "source": [
        "seq2seq_Model = load_model('MT_model.h5')"
      ],
      "metadata": {
        "id": "093bThOf8ENa"
      },
      "execution_count": 83,
      "outputs": []
    },
    {
      "cell_type": "code",
      "source": [
        "seq2seq_Model"
      ],
      "metadata": {
        "colab": {
          "base_uri": "https://localhost:8080/"
        },
        "id": "oXs_QteR8EMg",
        "outputId": "f67927cb-7e75-48cf-afac-082fee88a27a"
      },
      "execution_count": 84,
      "outputs": [
        {
          "output_type": "execute_result",
          "data": {
            "text/plain": [
              "<keras.engine.functional.Functional at 0x7f21dd78c290>"
            ]
          },
          "metadata": {},
          "execution_count": 84
        }
      ]
    },
    {
      "cell_type": "markdown",
      "source": [
        "### **Evaluate Model**"
      ],
      "metadata": {
        "id": "Il8IJnSM5Tnk"
      }
    },
    {
      "cell_type": "code",
      "source": [
        "def translate(test_text):\n",
        "  decoded_sentence = []\n",
        "  stop_condition = False\n",
        "  raw_tokenized = tok1.texts_to_sequences(test_text)\n",
        "  raw_tokenized = tf.keras.preprocessing.sequence.pad_sequences(raw_tokenized, maxlen=maxlen1)\n",
        "  body_encoding = encoder_model.predict(raw_tokenized)\n",
        "  latent_dim = seq2seq_Model.get_layer('Decoder-Word-Embedding').output_shape[-1]\n",
        "\n",
        "  decoder_inputs = seq2seq_Model.get_layer('Decoder-Input').input\n",
        "  dec_emb = seq2seq_Model.get_layer('Decoder-Word-Embedding')(decoder_inputs)\n",
        "  dec_bn = seq2seq_Model.get_layer('Decoder-Batchnorm-1')(dec_emb)\n",
        "  gru_inference_state_input = tf.keras.Input(shape=(latent_dim,), name='hidden_state_input')\n",
        "  gru_out, gru_state_out = seq2seq_Model.get_layer('Decoder-GRU')([dec_bn, gru_inference_state_input])\n",
        "  dec_bn2 = seq2seq_Model.get_layer('Decoder-Batchnorm-2')(gru_out)\n",
        "  dense_out = seq2seq_Model.get_layer('Final-Output-Dense')(dec_bn2)\n",
        "  decoder_model = tf.keras.Model([decoder_inputs, gru_inference_state_input],[dense_out, gru_state_out])\n",
        "  original_body_encoding = body_encoding\n",
        "  state_value = np.array(tok2.word_index['_start_']).reshape(1, 1)\n",
        "  vocabulary_inv = dict((v, k) for k, v in tok2.word_index.items())\n",
        "  while not stop_condition:\n",
        "    preds, st = decoder_model.predict([state_value, body_encoding])\n",
        "    pred_idx = np.argmax(preds[:, :, 2:]) + 2\n",
        "    pred_word_str = vocabulary_inv[pred_idx]\n",
        "    print(pred_word_str)\n",
        "    if pred_word_str == '_end_' or len(decoded_sentence) >= maxlen2:\n",
        "        stop_condition = True\n",
        "        break\n",
        "    decoded_sentence.append(pred_word_str)\n",
        "    body_encoding = st\n",
        "    state_value = np.array(pred_idx).reshape(1, 1)\n",
        "    return decoded_sentence"
      ],
      "metadata": {
        "id": "l-sUHj6m8nUY"
      },
      "execution_count": 248,
      "outputs": []
    },
    {
      "cell_type": "code",
      "source": [
        "test_text = 'hello'"
      ],
      "metadata": {
        "id": "MSru8B5-Id4X"
      },
      "execution_count": 252,
      "outputs": []
    },
    {
      "cell_type": "code",
      "source": [
        "translate(test_text)"
      ],
      "metadata": {
        "colab": {
          "base_uri": "https://localhost:8080/",
          "height": 358
        },
        "id": "MEz-9IKKA14V",
        "outputId": "78e2c675-805d-4d8a-f34a-725b30108792"
      },
      "execution_count": 253,
      "outputs": [
        {
          "output_type": "error",
          "ename": "ValueError",
          "evalue": "ignored",
          "traceback": [
            "\u001b[0;31m---------------------------------------------------------------------------\u001b[0m",
            "\u001b[0;31mValueError\u001b[0m                                Traceback (most recent call last)",
            "\u001b[0;32m<ipython-input-253-293455ea922e>\u001b[0m in \u001b[0;36m<module>\u001b[0;34m()\u001b[0m\n\u001b[0;32m----> 1\u001b[0;31m \u001b[0mtranslate\u001b[0m\u001b[0;34m(\u001b[0m\u001b[0mtest_text\u001b[0m\u001b[0;34m)\u001b[0m\u001b[0;34m\u001b[0m\u001b[0;34m\u001b[0m\u001b[0m\n\u001b[0m",
            "\u001b[0;32m<ipython-input-248-1c51743e7868>\u001b[0m in \u001b[0;36mtranslate\u001b[0;34m(test_text)\u001b[0m\n\u001b[1;32m     20\u001b[0m   \u001b[0mvocabulary_inv\u001b[0m \u001b[0;34m=\u001b[0m \u001b[0mdict\u001b[0m\u001b[0;34m(\u001b[0m\u001b[0;34m(\u001b[0m\u001b[0mv\u001b[0m\u001b[0;34m,\u001b[0m \u001b[0mk\u001b[0m\u001b[0;34m)\u001b[0m \u001b[0;32mfor\u001b[0m \u001b[0mk\u001b[0m\u001b[0;34m,\u001b[0m \u001b[0mv\u001b[0m \u001b[0;32min\u001b[0m \u001b[0mtok2\u001b[0m\u001b[0;34m.\u001b[0m\u001b[0mword_index\u001b[0m\u001b[0;34m.\u001b[0m\u001b[0mitems\u001b[0m\u001b[0;34m(\u001b[0m\u001b[0;34m)\u001b[0m\u001b[0;34m)\u001b[0m\u001b[0;34m\u001b[0m\u001b[0;34m\u001b[0m\u001b[0m\n\u001b[1;32m     21\u001b[0m   \u001b[0;32mwhile\u001b[0m \u001b[0;32mnot\u001b[0m \u001b[0mstop_condition\u001b[0m\u001b[0;34m:\u001b[0m\u001b[0;34m\u001b[0m\u001b[0;34m\u001b[0m\u001b[0m\n\u001b[0;32m---> 22\u001b[0;31m     \u001b[0mpreds\u001b[0m\u001b[0;34m,\u001b[0m \u001b[0mst\u001b[0m \u001b[0;34m=\u001b[0m \u001b[0mdecoder_model\u001b[0m\u001b[0;34m.\u001b[0m\u001b[0mpredict\u001b[0m\u001b[0;34m(\u001b[0m\u001b[0;34m[\u001b[0m\u001b[0mstate_value\u001b[0m\u001b[0;34m,\u001b[0m \u001b[0mbody_encoding\u001b[0m\u001b[0;34m]\u001b[0m\u001b[0;34m)\u001b[0m\u001b[0;34m\u001b[0m\u001b[0;34m\u001b[0m\u001b[0m\n\u001b[0m\u001b[1;32m     23\u001b[0m     \u001b[0mpred_idx\u001b[0m \u001b[0;34m=\u001b[0m \u001b[0mnp\u001b[0m\u001b[0;34m.\u001b[0m\u001b[0margmax\u001b[0m\u001b[0;34m(\u001b[0m\u001b[0mpreds\u001b[0m\u001b[0;34m[\u001b[0m\u001b[0;34m:\u001b[0m\u001b[0;34m,\u001b[0m \u001b[0;34m:\u001b[0m\u001b[0;34m,\u001b[0m \u001b[0;36m2\u001b[0m\u001b[0;34m:\u001b[0m\u001b[0;34m]\u001b[0m\u001b[0;34m)\u001b[0m \u001b[0;34m+\u001b[0m \u001b[0;36m2\u001b[0m\u001b[0;34m\u001b[0m\u001b[0;34m\u001b[0m\u001b[0m\n\u001b[1;32m     24\u001b[0m     \u001b[0mpred_word_str\u001b[0m \u001b[0;34m=\u001b[0m \u001b[0mvocabulary_inv\u001b[0m\u001b[0;34m[\u001b[0m\u001b[0mpred_idx\u001b[0m\u001b[0;34m]\u001b[0m\u001b[0;34m\u001b[0m\u001b[0;34m\u001b[0m\u001b[0m\n",
            "\u001b[0;32m/usr/local/lib/python3.7/dist-packages/keras/utils/traceback_utils.py\u001b[0m in \u001b[0;36merror_handler\u001b[0;34m(*args, **kwargs)\u001b[0m\n\u001b[1;32m     65\u001b[0m     \u001b[0;32mexcept\u001b[0m \u001b[0mException\u001b[0m \u001b[0;32mas\u001b[0m \u001b[0me\u001b[0m\u001b[0;34m:\u001b[0m  \u001b[0;31m# pylint: disable=broad-except\u001b[0m\u001b[0;34m\u001b[0m\u001b[0;34m\u001b[0m\u001b[0m\n\u001b[1;32m     66\u001b[0m       \u001b[0mfiltered_tb\u001b[0m \u001b[0;34m=\u001b[0m \u001b[0m_process_traceback_frames\u001b[0m\u001b[0;34m(\u001b[0m\u001b[0me\u001b[0m\u001b[0;34m.\u001b[0m\u001b[0m__traceback__\u001b[0m\u001b[0;34m)\u001b[0m\u001b[0;34m\u001b[0m\u001b[0;34m\u001b[0m\u001b[0m\n\u001b[0;32m---> 67\u001b[0;31m       \u001b[0;32mraise\u001b[0m \u001b[0me\u001b[0m\u001b[0;34m.\u001b[0m\u001b[0mwith_traceback\u001b[0m\u001b[0;34m(\u001b[0m\u001b[0mfiltered_tb\u001b[0m\u001b[0;34m)\u001b[0m \u001b[0;32mfrom\u001b[0m \u001b[0;32mNone\u001b[0m\u001b[0;34m\u001b[0m\u001b[0;34m\u001b[0m\u001b[0m\n\u001b[0m\u001b[1;32m     68\u001b[0m     \u001b[0;32mfinally\u001b[0m\u001b[0;34m:\u001b[0m\u001b[0;34m\u001b[0m\u001b[0;34m\u001b[0m\u001b[0m\n\u001b[1;32m     69\u001b[0m       \u001b[0;32mdel\u001b[0m \u001b[0mfiltered_tb\u001b[0m\u001b[0;34m\u001b[0m\u001b[0;34m\u001b[0m\u001b[0m\n",
            "\u001b[0;32m/usr/local/lib/python3.7/dist-packages/keras/engine/data_adapter.py\u001b[0m in \u001b[0;36m_check_data_cardinality\u001b[0;34m(data)\u001b[0m\n\u001b[1;32m   1651\u001b[0m                            for i in tf.nest.flatten(single_data)))\n\u001b[1;32m   1652\u001b[0m     \u001b[0mmsg\u001b[0m \u001b[0;34m+=\u001b[0m \u001b[0;34m\"Make sure all arrays contain the same number of samples.\"\u001b[0m\u001b[0;34m\u001b[0m\u001b[0;34m\u001b[0m\u001b[0m\n\u001b[0;32m-> 1653\u001b[0;31m     \u001b[0;32mraise\u001b[0m \u001b[0mValueError\u001b[0m\u001b[0;34m(\u001b[0m\u001b[0mmsg\u001b[0m\u001b[0;34m)\u001b[0m\u001b[0;34m\u001b[0m\u001b[0;34m\u001b[0m\u001b[0m\n\u001b[0m\u001b[1;32m   1654\u001b[0m \u001b[0;34m\u001b[0m\u001b[0m\n\u001b[1;32m   1655\u001b[0m \u001b[0;34m\u001b[0m\u001b[0m\n",
            "\u001b[0;31mValueError\u001b[0m: Data cardinality is ambiguous:\n  x sizes: 1, 5\nMake sure all arrays contain the same number of samples."
          ]
        }
      ]
    },
    {
      "cell_type": "code",
      "source": [
        ""
      ],
      "metadata": {
        "id": "NVXIHbtNH246"
      },
      "execution_count": null,
      "outputs": []
    }
  ]
}